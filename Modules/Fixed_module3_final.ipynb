{
  "nbformat": 4,
  "nbformat_minor": 0,
  "metadata": {
    "colab": {
      "provenance": []
    },
    "kernelspec": {
      "name": "python3",
      "display_name": "Python 3"
    },
    "language_info": {
      "name": "python"
    }
  },
  "cells": [
    {
      "cell_type": "code",
      "execution_count": null,
      "metadata": {
        "id": "fyytAk1mSSTX"
      },
      "outputs": [],
      "source": [
        "\n",
        "!pip install -q condacolab\n",
        "import condacolab\n",
        "condacolab.install()\n",
        "     "
      ]
    },
    {
      "cell_type": "code",
      "source": [
        "!wget https://github.com/BioinformaticaUSFQ1/Course_Bioinformatics/blob/main/Modules/SARS-CoV-2.reference.fasta?raw=true\n",
        "!mv  SARS-CoV-2.reference.fasta?raw=true SARS-CoV-2.reference.fasta"
      ],
      "metadata": {
        "id": "5YIxakMEJktQ"
      },
      "execution_count": null,
      "outputs": []
    },
    {
      "cell_type": "code",
      "source": [
        "!mamba install -c bioconda minimap2 samtools bamclipper tabix bcftools bedtools"
      ],
      "metadata": {
        "collapsed": true,
        "id": "51-aED9QSXI3"
      },
      "execution_count": null,
      "outputs": []
    },
    {
      "cell_type": "code",
      "source": [
        "#Download the reads in a zip file and unzip\n",
        "#The reads will go to nanopore_fastq folder\n",
        "!gdown 1rRhK7H7R9aiPooqtKtT8kugnLNsqmkkR ; unzip Nanopore_READS.zip"
      ],
      "metadata": {
        "id": "rNnInwIrYKXJ"
      },
      "execution_count": null,
      "outputs": []
    },
    {
      "cell_type": "code",
      "source": [
        "# map the filtered reads to the reference genome\n",
        "!minimap2 -x map-ont -t 4 -a -o SARSCoV2-nanopore.sam SARS-CoV-2.reference.fasta /content/Nanopore_READS/nanopore_fastq/barcode92/barcode92.fastq.gz"
      ],
      "metadata": {
        "id": "WKN0w0VDTcBz"
      },
      "execution_count": null,
      "outputs": []
    },
    {
      "cell_type": "code",
      "source": [
        "# convert mapping results (SAM format) into a binary format \n",
        "# the binary format can be faster read by a machine but not by a human\n",
        "# we will use the binary format (called BAM) for visualization of the mapping\n",
        " # 1) convert SAM to BAM --> check the file size after convert!\n",
        "!samtools view -bS SARSCoV2-nanopore.sam > SARSCoV2-nanopore.bam\n",
        " # 2) sort the BAM\n",
        "!samtools sort SARSCoV2-nanopore.bam > SARSCoV2-nanopore.sorted.bam\n",
        "# 3) index the BAM\n",
        "!samtools index SARSCoV2-nanopore.sorted.bam"
      ],
      "metadata": {
        "id": "BtLcP5jcSZ7y"
      },
      "execution_count": null,
      "outputs": []
    },
    {
      "cell_type": "code",
      "source": [
        "# First, we download the primer BED scheme for the ARTIC V1200 scheme\n",
        "# Change to another BED file if needed!\n",
        "!wget https://raw.githubusercontent.com/replikation/poreCov/master/data/external_primer_schemes/nCoV-2019/V1200/nCoV-2019.bed\n"
      ],
      "metadata": {
        "id": "KtZfpAE8Queq"
      },
      "execution_count": null,
      "outputs": []
    },
    {
      "cell_type": "code",
      "source": [
        "# It's important that the FASTA header of the reference genome \n",
        "# and the IDs in the BED file match, let's check:\n",
        "!head SARS-CoV-2.reference.fasta\n",
        "!head nCoV-2019.bed"
      ],
      "metadata": {
        "id": "sjKujDjkWoED"
      },
      "execution_count": null,
      "outputs": []
    },
    {
      "cell_type": "code",
      "source": [
        "!pip install pandas\n",
        "# now we convert this BED file into a BEDPE file needed by BAMclipper.\n",
        "# we download a python script to do so:\n",
        "!wget https://raw.githubusercontent.com/hoelzer/bed2bedpe/master/primerbed2bedpe.py\n"
      ],
      "metadata": {
        "id": "tmefksJnWign"
      },
      "execution_count": null,
      "outputs": []
    },
    {
      "cell_type": "code",
      "source": [
        "# and run it\n",
        "!python primerbed2bedpe.py nCoV-2019.bed --forward_identifier _LEFT --reverse_identifier _RIGHT -o nCoV-2019.bedpe"
      ],
      "metadata": {
        "id": "cPFvizgoRQKY"
      },
      "execution_count": null,
      "outputs": []
    },
    {
      "cell_type": "code",
      "source": [
        "# now we can use BAMclipper - finally\n",
        "!bamclipper.sh -b SARSCoV2-nanopore.sorted.bam -p nCoV-2019.bedpe -n 4"
      ],
      "metadata": {
        "id": "4bVl6zMqRVdI"
      },
      "execution_count": null,
      "outputs": []
    },
    {
      "cell_type": "code",
      "source": [
        "# first, we create a new env named 'medaka' and install 'mamba' and a specific version of python needed by 'medaka'\n",
        "!pip install medaka\n"
      ],
      "metadata": {
        "id": "kR2fxw1EYJyA"
      },
      "execution_count": null,
      "outputs": []
    },
    {
      "cell_type": "code",
      "source": [
        "# first generate a file with information about potential variants\n",
        "# considering the used basecalling model. You should use the matching model from your Guppy basecalling settings!\n",
        "!medaka consensus --model r941_min_hac_g507 --threads 4 --chunk_len 800 --chunk_ovlp 400 SARSCoV2-nanopore.sorted.primerclipped.bam medaka-nanopore.consensus.hdf\n",
        "\n",
        "# actually call the variants\n",
        "!medaka variant SARS-CoV-2.reference.fasta medaka-nanopore.consensus.hdf medaka-nanopore.vcf\n",
        "\n",
        "# annotate VCF with read depth info etc. so we can filter it\n",
        "!medaka tools annotate  medaka-nanopore.vcf SARS-CoV-2.reference.fasta SARSCoV2-nanopore.sorted.primerclipped.bam medaka-nanopore.annotate.vcf"
      ],
      "metadata": {
        "id": "6AGgNR8rZO00"
      },
      "execution_count": null,
      "outputs": []
    },
    {
      "cell_type": "code",
      "source": [
        "# compress the annotated VCF file (needed for the next steps)\n",
        "!bgzip -f medaka-nanopore.annotate.vcf\n",
        " \n",
        "# index a TAB-delimited genome position file in bgz format \n",
        "# and create an index file\n",
        "!tabix -f -p vcf medaka-nanopore.annotate.vcf.gz\n",
        "\n",
        "# generate the consensus\n",
        "!bcftools consensus -f SARS-CoV-2.reference.fasta medaka-nanopore.annotate.vcf.gz -o consensus-nanopore.fasta\n",
        "\n"
      ],
      "metadata": {
        "id": "mYxAo2YIafLt"
      },
      "execution_count": null,
      "outputs": []
    },
    {
      "cell_type": "markdown",
      "source": [
        "Mask consensus sequence"
      ],
      "metadata": {
        "id": "OXIfaDntIJXt"
      }
    },
    {
      "cell_type": "code",
      "source": [
        "!bedtools genomecov -ibam SARSCoV2-nanopore.sorted.primerclipped.bam -bga -split | awk '$4 < 20' | cut -f 1-3 > low_coverage_regions.bed\n"
      ],
      "metadata": {
        "id": "C2-w7dIK70d2"
      },
      "execution_count": null,
      "outputs": []
    },
    {
      "cell_type": "code",
      "source": [
        "!bedtools maskfasta -fi consensus-nanopore.fasta -fo masked.fasta -bed low_coverage_regions.bed\n"
      ],
      "metadata": {
        "id": "4OsSaqrC_H4S"
      },
      "execution_count": null,
      "outputs": []
    },
    {
      "cell_type": "code",
      "source": [
        "# rename the consensus FASTA, right now the FASTA ID is still the reference\n",
        "!sed -i 's/MN908947.3/Consensus-Nanopore/g' masked.fasta"
      ],
      "metadata": {
        "id": "YYM8nmDQatNm"
      },
      "execution_count": null,
      "outputs": []
    }
  ]
}