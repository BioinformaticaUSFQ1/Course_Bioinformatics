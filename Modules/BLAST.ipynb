{
  "nbformat": 4,
  "nbformat_minor": 0,
  "metadata": {
    "colab": {
      "provenance": []
    },
    "kernelspec": {
      "name": "python3",
      "display_name": "Python 3"
    },
    "language_info": {
      "name": "python"
    }
  },
  "cells": [
    {
      "cell_type": "markdown",
      "source": [
        "#BLAST\n",
        "Este ejercicio te familiarizará para utilizar la línea de comandos al realizar un blastn."
      ],
      "metadata": {
        "id": "jJXuYiLyv4UM"
      }
    },
    {
      "cell_type": "markdown",
      "source": [
        "Paso 1. Instalar BLAST\n",
        "- Pueden revisar el manual para más información: https://www.ncbi.nlm.nih.gov/books/NBK279690/\n"
      ],
      "metadata": {
        "id": "nvD1pvMHwoCy"
      }
    },
    {
      "cell_type": "code",
      "source": [
        "!apt install ncbi-blast+"
      ],
      "metadata": {
        "id": "75PdnhHtwyis"
      },
      "execution_count": null,
      "outputs": []
    },
    {
      "cell_type": "markdown",
      "source": [
        "Probar la instalación"
      ],
      "metadata": {
        "id": "GuuQyiac1j0o"
      }
    },
    {
      "cell_type": "code",
      "source": [
        "!blastn -h"
      ],
      "metadata": {
        "id": "f9mgPceI1cNa"
      },
      "execution_count": null,
      "outputs": []
    },
    {
      "cell_type": "markdown",
      "source": [
        "Paso 2. Crear una base de datos propia"
      ],
      "metadata": {
        "id": "N8HBG2Ix2bqi"
      }
    },
    {
      "cell_type": "code",
      "source": [
        "#Explorar las distintas opciones\n",
        "!makeblastdb -h"
      ],
      "metadata": {
        "id": "myTIVGXN2p4y"
      },
      "execution_count": null,
      "outputs": []
    },
    {
      "cell_type": "code",
      "source": [
        "#Descargar las secuencias para crear la base de datos.\n",
        "!wget --content-disposition https://estudusfqedu-my.sharepoint.com/:u:/g/personal/vbarragan_usfq_edu_ec/EVQvM_ujbN1MigOwLsSwJ0oBj2WQLJZKVEpUFTQBV_OIaw?download=1"
      ],
      "metadata": {
        "id": "5xfOCXQG3Oic"
      },
      "execution_count": null,
      "outputs": []
    },
    {
      "cell_type": "code",
      "source": [
        "#En un nuevo cuadro de código correr el siguiente comando: makeblastdb -in (nombre_del_archivo) -out my_reference_database -parse_seqids -dbtype nucl"
      ],
      "metadata": {
        "id": "KsbGpw1q8O3J"
      },
      "execution_count": null,
      "outputs": []
    },
    {
      "cell_type": "markdown",
      "source": [
        "Paso 3. Realizar blastn con una secuencia desconocida."
      ],
      "metadata": {
        "id": "IC4s4egCAucx"
      }
    },
    {
      "cell_type": "code",
      "source": [
        "#Descargar la secuencia\n",
        "!wget --content-disposition https://estudusfqedu-my.sharepoint.com/:u:/g/personal/vbarragan_usfq_edu_ec/EX44jM_QB8lKggPCtyVhhTUB4zJoM1meIhciYh2vGPeMmA?download=1"
      ],
      "metadata": {
        "id": "lYSWou9X_4XX"
      },
      "execution_count": null,
      "outputs": []
    },
    {
      "cell_type": "code",
      "source": [
        "#Correr el comando\n",
        "!blastn -db my_reference_database -query desconocida -out results.out"
      ],
      "metadata": {
        "id": "natxfy5OAWiJ"
      },
      "execution_count": null,
      "outputs": []
    },
    {
      "cell_type": "markdown",
      "source": [
        "Explora el archivo creado\n",
        "\n",
        "#En un nuevo cuadro de código:\n",
        "Baja el porcentaje de similitud de BLAST con el siguiente comando:\n",
        "\n",
        "blastn -db my_reference_database -query desconocida -out results.out -perc_identity 70\n",
        "\n",
        "Los formatos en los que podemos ver los resultados dependen de lo que le solicites al BLAST. Ahora intenta:\n",
        "\n",
        "blastn -db my_reference_database -query desconocida -out results.out -perc_identity 70 -outfmt \"6\""
      ],
      "metadata": {
        "id": "nH-vtXQWBQqv"
      }
    }
  ]
}